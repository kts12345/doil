{
 "cells": [
  {
   "cell_type": "markdown",
   "id": "7f7ac8fe-b77d-443b-92e6-4b5e2ae1f9d2",
   "metadata": {},
   "source": [
    "---\n",
    "DEV PLUS 2021\n",
    "---\n",
    "# jupyter lab 환경에서 numpy를 이용한 슈팅게임 제작\n",
    "  \n",
    "  \n",
    "  \n",
    "  \n",
    "### A.I. PLUS Lab 비전파트 kts123\n",
    "\n",
    "\n",
    "* https://github.com/kts12345/doil"
   ]
  }
 ],
 "metadata": {
  "kernelspec": {
   "display_name": "Python 3",
   "language": "python",
   "name": "python3"
  },
  "language_info": {
   "codemirror_mode": {
    "name": "ipython",
    "version": 3
   },
   "file_extension": ".py",
   "mimetype": "text/x-python",
   "name": "python",
   "nbconvert_exporter": "python",
   "pygments_lexer": "ipython3",
   "version": "3.7.10"
  }
 },
 "nbformat": 4,
 "nbformat_minor": 5
}
