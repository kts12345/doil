{
 "cells": [
  {
   "cell_type": "markdown",
   "id": "transsexual-victory",
   "metadata": {},
   "source": [
    "---\n",
    "DEV PLUS 2021  \n",
    "\n",
    "---\n",
    "### 세미나 개요 \n",
    "* 컴퓨터 비전(시각 인지) 업무 수행에 필요한 기본 기술들에 대한 소개 \n",
    "* 개발환경 및 툴 : jupyter lab\n",
    "* 프로그래밍 언어: python\n",
    "* 기본 라이브러리:\n",
    "  * numpy   : Data Science 에서 텐서(다차원 배열) 처리 필수/핵심 라이브러리\n",
    "  * pillow  : 컴퓨터 비전분야의 사진 처리 필수/핵심 라이브러리\n",
    "* 진행 방식\n",
    "  * 미니 게임을 만들기 위한 소스 코드 분석 "
   ]
  }
 ],
 "metadata": {
  "kernelspec": {
   "display_name": "Python 3",
   "language": "python",
   "name": "python3"
  },
  "language_info": {
   "codemirror_mode": {
    "name": "ipython",
    "version": 3
   },
   "file_extension": ".py",
   "mimetype": "text/x-python",
   "name": "python",
   "nbconvert_exporter": "python",
   "pygments_lexer": "ipython3",
   "version": "3.7.9"
  }
 },
 "nbformat": 4,
 "nbformat_minor": 5
}
