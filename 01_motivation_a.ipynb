{
 "cells": [
  {
   "cell_type": "markdown",
   "id": "respiratory-mainstream",
   "metadata": {},
   "source": [
    "---\n",
    "DEV PLUS 2021  \n",
    "\n",
    "---\n",
    "### 다룰 내용\n",
    "* 파이썬 코드 샘플\n",
    "* IPython.display\n",
    "* imageio\n",
    "  * 비디오 읽기\n",
    "* numpy\n",
    "  * 이미지 표현 height, width, channel\n",
    "  * 위치 indexing\n",
    "* PIL.Image\n",
    "  * 생성, resize"
   ]
  },
  {
   "cell_type": "code",
   "execution_count": null,
   "id": "elementary-genre",
   "metadata": {},
   "outputs": [],
   "source": [
    "for i, e in enumerate(['◆', '■', '◀', '★', '※', '◆']):\n",
    "    print(i, e * i)"
   ]
  },
  {
   "cell_type": "code",
   "execution_count": null,
   "id": "miniature-segment",
   "metadata": {},
   "outputs": [],
   "source": [
    "import IPython.display as ipd\n",
    "ipd.Video('video/Ella.mp4')"
   ]
  },
  {
   "cell_type": "code",
   "execution_count": null,
   "id": "protected-demonstration",
   "metadata": {},
   "outputs": [],
   "source": [
    "import imageio\n",
    "frames = imageio.mimread('video/Ella.mp4', memtest=False)\n",
    "img = frames[4*30]\n",
    "\n",
    "import numpy as np\n",
    "img = (img[:,:,:] * [0,1,0]).astype(np.uint8)\n",
    "\n",
    "from PIL import Image\n",
    "Image.fromarray(img)"
   ]
  },
  {
   "cell_type": "code",
   "execution_count": null,
   "id": "approximate-curve",
   "metadata": {},
   "outputs": [],
   "source": [
    "import imageio\n",
    "import numpy as np\n",
    "\n",
    "square_2x2 = np.array([\n",
    "    [[255, 0, 0], [0, 255, 0], [0, 0, 255]],\n",
    "    [[255, 255, 0], [255, 0, 255], [0, 255, 255]]\n",
    "], np.uint8)\n",
    "Image.fromarray(square_2x2).resize((128*3, 128*2), resample=Image.NEAREST)"
   ]
  }
 ],
 "metadata": {
  "kernelspec": {
   "display_name": "Python 3",
   "language": "python",
   "name": "python3"
  },
  "language_info": {
   "codemirror_mode": {
    "name": "ipython",
    "version": 3
   },
   "file_extension": ".py",
   "mimetype": "text/x-python",
   "name": "python",
   "nbconvert_exporter": "python",
   "pygments_lexer": "ipython3",
   "version": "3.7.9"
  }
 },
 "nbformat": 4,
 "nbformat_minor": 5
}
