{
 "cells": [
  {
   "cell_type": "code",
   "execution_count": null,
   "id": "167de277-ddf9-44ab-beb8-678f6bd25ad3",
   "metadata": {},
   "outputs": [],
   "source": [
    "for i, e in enumerate(['◆', '■', '◀', '★', '※', '◆']):\n",
    "    print(i, e * i)"
   ]
  },
  {
   "cell_type": "code",
   "execution_count": null,
   "id": "a1bff615-a8e4-404a-8585-98ac81011c1e",
   "metadata": {},
   "outputs": [],
   "source": [
    "import IPython.display as ipd\n",
    "ipd.Video('video/Ella.mp4')"
   ]
  },
  {
   "cell_type": "code",
   "execution_count": null,
   "id": "213dc1a8-3942-4234-bac5-9f23e159ca8b",
   "metadata": {},
   "outputs": [],
   "source": [
    "import imageio\n",
    "frames = imageio.mimread('video/Ella.mp4', memtest=False)\n",
    "img = frames[4*30]\n",
    "\n",
    "import numpy as np\n",
    "img = (img[:,:,:] * [0,1,0]).astype(np.uint8)\n",
    "\n",
    "from PIL import Image\n",
    "Image.fromarray(img)"
   ]
  },
  {
   "cell_type": "code",
   "execution_count": null,
   "id": "e0ad8e15-c7e4-4d76-8aa9-81dea6d621b9",
   "metadata": {},
   "outputs": [],
   "source": [
    "import imageio\n",
    "import numpy as np\n",
    "\n",
    "square_2x2 = np.array([\n",
    "    [[255, 0, 0], [0, 255, 0], [0, 0, 255]],\n",
    "    [[255, 255, 0], [255, 0, 255], [0, 255, 255]]\n",
    "], np.uint8)\n",
    "Image.fromarray(square_2x2).resize((128*3, 128*2), resample=Image.NEAREST)"
   ]
  }
 ],
 "metadata": {
  "kernelspec": {
   "display_name": "Python [conda env:doil]",
   "language": "python",
   "name": "conda-env-doil-py"
  },
  "language_info": {
   "codemirror_mode": {
    "name": "ipython",
    "version": 3
   },
   "file_extension": ".py",
   "mimetype": "text/x-python",
   "name": "python",
   "nbconvert_exporter": "python",
   "pygments_lexer": "ipython3",
   "version": "3.8.12"
  }
 },
 "nbformat": 4,
 "nbformat_minor": 5
}
