{
 "cells": [
  {
   "cell_type": "code",
   "execution_count": 5,
   "id": "6329499f-0339-4aa0-a249-5f55af8e58e2",
   "metadata": {},
   "outputs": [
    {
     "data": {
      "text/html": [
       "<video src=\"video/shooting.mp4\" controls  width=\"640\" >\n",
       "      Your browser does not support the <code>video</code> element.\n",
       "    </video>"
      ],
      "text/plain": [
       "<IPython.core.display.Video object>"
      ]
     },
     "execution_count": 5,
     "metadata": {},
     "output_type": "execute_result"
    }
   ],
   "source": [
    "import IPython.display as ipd\n",
    "ipd.Video('video/shooting.mp4', width=640)"
   ]
  },
  {
   "cell_type": "code",
   "execution_count": 8,
   "id": "39682ec3-fad6-4adc-866f-2bccf94887c6",
   "metadata": {},
   "outputs": [
    {
     "data": {
      "text/html": [
       "<video src=\"video/demo.mp4\" controls  width=\"540\" >\n",
       "      Your browser does not support the <code>video</code> element.\n",
       "    </video>"
      ],
      "text/plain": [
       "<IPython.core.display.Video object>"
      ]
     },
     "execution_count": 8,
     "metadata": {},
     "output_type": "execute_result"
    }
   ],
   "source": [
    "ipd.Video('video/demo.mp4', width=540)"
   ]
  },
  {
   "cell_type": "code",
   "execution_count": null,
   "id": "21c00138-4421-4bec-8aca-b20770c62c45",
   "metadata": {},
   "outputs": [],
   "source": []
  }
 ],
 "metadata": {
  "kernelspec": {
   "display_name": "Python 3",
   "language": "python",
   "name": "python3"
  },
  "language_info": {
   "codemirror_mode": {
    "name": "ipython",
    "version": 3
   },
   "file_extension": ".py",
   "mimetype": "text/x-python",
   "name": "python",
   "nbconvert_exporter": "python",
   "pygments_lexer": "ipython3",
   "version": "3.7.10"
  }
 },
 "nbformat": 4,
 "nbformat_minor": 5
}
