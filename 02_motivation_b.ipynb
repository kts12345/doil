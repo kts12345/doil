{
 "cells": [
  {
   "cell_type": "code",
   "execution_count": null,
   "id": "c077f8d7-27d5-4cc7-afca-0fd17dc22145",
   "metadata": {},
   "outputs": [],
   "source": [
    "import IPython.display as ipd"
   ]
  },
  {
   "cell_type": "code",
   "execution_count": null,
   "id": "f001f700-c8f1-4650-b73a-97042c0bd4da",
   "metadata": {},
   "outputs": [],
   "source": [
    "ipd.Video('video/screensaver.mp4', width=540)"
   ]
  },
  {
   "cell_type": "code",
   "execution_count": null,
   "id": "6329499f-0339-4aa0-a249-5f55af8e58e2",
   "metadata": {},
   "outputs": [],
   "source": [
    "ipd.Video('video/shooting.mp4', width=640)"
   ]
  },
  {
   "cell_type": "code",
   "execution_count": null,
   "id": "39682ec3-fad6-4adc-866f-2bccf94887c6",
   "metadata": {},
   "outputs": [],
   "source": [
    "ipd.Video('video/demo.mp4', width=540)"
   ]
  }
 ],
 "metadata": {
  "kernelspec": {
   "display_name": "Python 3",
   "language": "python",
   "name": "python3"
  },
  "language_info": {
   "codemirror_mode": {
    "name": "ipython",
    "version": 3
   },
   "file_extension": ".py",
   "mimetype": "text/x-python",
   "name": "python",
   "nbconvert_exporter": "python",
   "pygments_lexer": "ipython3",
   "version": "3.7.10"
  }
 },
 "nbformat": 4,
 "nbformat_minor": 5
}
