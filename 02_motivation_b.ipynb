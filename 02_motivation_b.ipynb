{
 "cells": [
  {
   "cell_type": "markdown",
   "id": "dominican-mileage",
   "metadata": {},
   "source": [
    "---\n",
    "DEV PLUS 2021  \n",
    "\n",
    "---\n",
    "### 다룰 내용\n",
    "* 소재를 슈팅게임으로 잡은 이유"
   ]
  },
  {
   "cell_type": "code",
   "execution_count": null,
   "id": "hidden-staff",
   "metadata": {},
   "outputs": [],
   "source": [
    "import IPython.display as ipd"
   ]
  },
  {
   "cell_type": "code",
   "execution_count": null,
   "id": "brave-entity",
   "metadata": {},
   "outputs": [],
   "source": [
    "ipd.Video('video/screensaver.mp4', width=540)"
   ]
  },
  {
   "cell_type": "code",
   "execution_count": null,
   "id": "impaired-seller",
   "metadata": {},
   "outputs": [],
   "source": [
    "ipd.Video('video/shooting.mp4', width=640)"
   ]
  },
  {
   "cell_type": "code",
   "execution_count": null,
   "id": "willing-celebrity",
   "metadata": {},
   "outputs": [],
   "source": [
    "ipd.Video('video/demo.mp4', width=540)"
   ]
  }
 ],
 "metadata": {
  "kernelspec": {
   "display_name": "Python 3",
   "language": "python",
   "name": "python3"
  },
  "language_info": {
   "codemirror_mode": {
    "name": "ipython",
    "version": 3
   },
   "file_extension": ".py",
   "mimetype": "text/x-python",
   "name": "python",
   "nbconvert_exporter": "python",
   "pygments_lexer": "ipython3",
   "version": "3.7.9"
  }
 },
 "nbformat": 4,
 "nbformat_minor": 5
}
