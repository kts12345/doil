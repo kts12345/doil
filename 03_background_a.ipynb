{
 "cells": [
  {
   "cell_type": "markdown",
   "id": "smaller-chick",
   "metadata": {},
   "source": [
    "## IPython, Jupyter Notebook, Jupyter Lab, Google colab\n",
    "---\n",
    "### IPython"
   ]
  },
  {
   "cell_type": "code",
   "execution_count": null,
   "id": "spectacular-beverage",
   "metadata": {},
   "outputs": [],
   "source": [
    "from PIL import Image\n",
    "Image.open('images/ipython.png')"
   ]
  },
  {
   "cell_type": "markdown",
   "id": "intermediate-mayor",
   "metadata": {},
   "source": [
    "--- \n",
    "### Jupyer Notebook\n"
   ]
  },
  {
   "cell_type": "code",
   "execution_count": null,
   "id": "blind-aging",
   "metadata": {},
   "outputs": [],
   "source": [
    "Image.open('images/notebook.png')"
   ]
  },
  {
   "cell_type": "markdown",
   "id": "injured-michigan",
   "metadata": {},
   "source": [
    "---\n",
    "### Jupyter Lab\n",
    "* this is jupyter lab !!!"
   ]
  },
  {
   "cell_type": "markdown",
   "id": "native-supervisor",
   "metadata": {},
   "source": [
    "---\n",
    "### Google Colab  \n",
    "https://colab.research.google.com/drive/17J1e82GqNNA8Ye2ZeAHGFwcG53V1D0Jj#scrollTo=_Bt5aWbJ2AZn\n"
   ]
  }
 ],
 "metadata": {
  "kernelspec": {
   "display_name": "Python 3",
   "language": "python",
   "name": "python3"
  },
  "language_info": {
   "codemirror_mode": {
    "name": "ipython",
    "version": 3
   },
   "file_extension": ".py",
   "mimetype": "text/x-python",
   "name": "python",
   "nbconvert_exporter": "python",
   "pygments_lexer": "ipython3",
   "version": "3.7.9"
  }
 },
 "nbformat": 4,
 "nbformat_minor": 5
}
