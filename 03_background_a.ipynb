{
 "cells": [
  {
   "cell_type": "markdown",
   "id": "miniature-charleston",
   "metadata": {},
   "source": [
    "---\n",
    "DEV PLUS 2021  \n",
    "\n",
    "---\n",
    "### 다룰 내용\n",
    "* IPython 계열의 개발 환경들 소개\n",
    "#  \n",
    "#  \n",
    "#  \n",
    "#  "
   ]
  },
  {
   "cell_type": "markdown",
   "id": "transsexual-pharmacology",
   "metadata": {},
   "source": [
    "## IPython, Jupyter Notebook, Jupyter Lab, Google colab\n",
    "---\n",
    "### IPython"
   ]
  },
  {
   "cell_type": "code",
   "execution_count": null,
   "id": "discrete-brave",
   "metadata": {},
   "outputs": [],
   "source": [
    "from PIL import Image\n",
    "Image.open('images/ipython.png')"
   ]
  },
  {
   "cell_type": "markdown",
   "id": "authorized-soccer",
   "metadata": {},
   "source": [
    "--- \n",
    "### Jupyer Notebook\n"
   ]
  },
  {
   "cell_type": "code",
   "execution_count": null,
   "id": "speaking-stupid",
   "metadata": {},
   "outputs": [],
   "source": [
    "Image.open('images/notebook.png')"
   ]
  },
  {
   "cell_type": "markdown",
   "id": "unlikely-destruction",
   "metadata": {},
   "source": [
    "---\n",
    "### Jupyter Lab\n",
    "* this is jupyter lab !!!"
   ]
  },
  {
   "cell_type": "markdown",
   "id": "pretty-probability",
   "metadata": {},
   "source": [
    "---\n",
    "### Google Colab  \n",
    "https://colab.research.google.com/drive/17J1e82GqNNA8Ye2ZeAHGFwcG53V1D0Jj#scrollTo=_Bt5aWbJ2AZn\n"
   ]
  }
 ],
 "metadata": {
  "kernelspec": {
   "display_name": "Python 3",
   "language": "python",
   "name": "python3"
  },
  "language_info": {
   "codemirror_mode": {
    "name": "ipython",
    "version": 3
   },
   "file_extension": ".py",
   "mimetype": "text/x-python",
   "name": "python",
   "nbconvert_exporter": "python",
   "pygments_lexer": "ipython3",
   "version": "3.7.9"
  }
 },
 "nbformat": 4,
 "nbformat_minor": 5
}
