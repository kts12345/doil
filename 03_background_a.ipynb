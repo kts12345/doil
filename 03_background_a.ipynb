{
 "cells": [
  {
   "cell_type": "markdown",
   "id": "45901d18-678c-4c71-9c57-5bfe57971456",
   "metadata": {},
   "source": [
    "## IPython, Jupyter Notebook, Jupyter Lab, Google colab\n",
    "---\n",
    "### IPython"
   ]
  },
  {
   "cell_type": "code",
   "execution_count": null,
   "id": "52e5e5ba-4fe4-4a98-af89-6cfdabbf0eb3",
   "metadata": {},
   "outputs": [],
   "source": [
    "from PIL import Image\n",
    "Image.open('images/ipython.png')"
   ]
  },
  {
   "cell_type": "markdown",
   "id": "66c6c9cd-9e0f-47ed-89eb-de434990fb2f",
   "metadata": {},
   "source": [
    "--- \n",
    "### Jupyer Notebook\n"
   ]
  },
  {
   "cell_type": "code",
   "execution_count": null,
   "id": "a73bca5c-79b2-4fbd-b963-b98726e0d53d",
   "metadata": {},
   "outputs": [],
   "source": [
    "Image.open('images/notebook.png')"
   ]
  },
  {
   "cell_type": "markdown",
   "id": "dafdd1e3-a921-4be3-85a5-9918ad9bebd1",
   "metadata": {},
   "source": [
    "---\n",
    "### Jupyter Lab\n",
    "* this is jupyter lab !!!"
   ]
  }
 ],
 "metadata": {
  "kernelspec": {
   "display_name": "Python 3",
   "language": "python",
   "name": "python3"
  },
  "language_info": {
   "codemirror_mode": {
    "name": "ipython",
    "version": 3
   },
   "file_extension": ".py",
   "mimetype": "text/x-python",
   "name": "python",
   "nbconvert_exporter": "python",
   "pygments_lexer": "ipython3",
   "version": "3.7.10"
  }
 },
 "nbformat": 4,
 "nbformat_minor": 5
}
