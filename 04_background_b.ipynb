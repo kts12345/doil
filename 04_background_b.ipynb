{
 "cells": [
  {
   "cell_type": "code",
   "execution_count": null,
   "id": "resistant-witness",
   "metadata": {},
   "outputs": [],
   "source": [
    "import IPython.display as ipd\n",
    "while True:\n",
    "    c = input()\n",
    "    if c in ['q', 'Q', 'ㅂ', 'ㅃ']:\n",
    "        break\n",
    "ipd.clear_output()"
   ]
  },
  {
   "cell_type": "code",
   "execution_count": null,
   "id": "convinced-intent",
   "metadata": {},
   "outputs": [],
   "source": [
    "from ipywidgets import HTML, Text, Button"
   ]
  },
  {
   "cell_type": "code",
   "execution_count": null,
   "id": "generous-consent",
   "metadata": {},
   "outputs": [],
   "source": [
    "HTML('<hr>')"
   ]
  },
  {
   "cell_type": "code",
   "execution_count": null,
   "id": "early-vegetarian",
   "metadata": {},
   "outputs": [],
   "source": [
    "Button(description='눌러주세요')"
   ]
  },
  {
   "cell_type": "code",
   "execution_count": null,
   "id": "undefined-value",
   "metadata": {},
   "outputs": [],
   "source": [
    "Text()"
   ]
  }
 ],
 "metadata": {
  "kernelspec": {
   "display_name": "Python 3",
   "language": "python",
   "name": "python3"
  },
  "language_info": {
   "codemirror_mode": {
    "name": "ipython",
    "version": 3
   },
   "file_extension": ".py",
   "mimetype": "text/x-python",
   "name": "python",
   "nbconvert_exporter": "python",
   "pygments_lexer": "ipython3",
   "version": "3.7.9"
  }
 },
 "nbformat": 4,
 "nbformat_minor": 5
}
