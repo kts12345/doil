{
 "cells": [
  {
   "cell_type": "markdown",
   "id": "compressed-thread",
   "metadata": {},
   "source": [
    "---\n",
    "DEV PLUS 2021  \n",
    "\n",
    "---\n",
    "### 다룰 내용\n",
    "* IPython.display 모듈\n",
    "** 데이터 전처리 툴 제작, 모델의 처리 결과 시각화에 주로 사용\n",
    "* ipywidgets 모듈 \n",
    "** 모델 처리 결과 시각화를 고도화 하기 위해 사용\n",
    "#  \n",
    "#  \n",
    "#  \n",
    "#  "
   ]
  },
  {
   "cell_type": "code",
   "execution_count": null,
   "id": "novel-spice",
   "metadata": {},
   "outputs": [],
   "source": [
    "import IPython.display as ipd\n",
    "while True:\n",
    "    c = input()\n",
    "    if c in ['q', 'Q', 'ㅂ', 'ㅃ']:\n",
    "        break\n",
    "ipd.clear_output()"
   ]
  },
  {
   "cell_type": "code",
   "execution_count": null,
   "id": "elect-sense",
   "metadata": {},
   "outputs": [],
   "source": [
    "from ipywidgets import HTML, Text, Button"
   ]
  },
  {
   "cell_type": "code",
   "execution_count": null,
   "id": "bridal-white",
   "metadata": {},
   "outputs": [],
   "source": [
    "HTML('<hr>')"
   ]
  },
  {
   "cell_type": "code",
   "execution_count": null,
   "id": "coral-macedonia",
   "metadata": {},
   "outputs": [],
   "source": [
    "Button(description='눌러주세요')"
   ]
  },
  {
   "cell_type": "code",
   "execution_count": null,
   "id": "portuguese-report",
   "metadata": {},
   "outputs": [],
   "source": [
    "Text()"
   ]
  }
 ],
 "metadata": {
  "kernelspec": {
   "display_name": "Python 3",
   "language": "python",
   "name": "python3"
  },
  "language_info": {
   "codemirror_mode": {
    "name": "ipython",
    "version": 3
   },
   "file_extension": ".py",
   "mimetype": "text/x-python",
   "name": "python",
   "nbconvert_exporter": "python",
   "pygments_lexer": "ipython3",
   "version": "3.7.9"
  }
 },
 "nbformat": 4,
 "nbformat_minor": 5
}
