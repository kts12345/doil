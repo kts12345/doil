{
 "cells": [
  {
   "cell_type": "code",
   "execution_count": 25,
   "id": "311dc468-17a1-43c9-bf44-228cc6cc465d",
   "metadata": {},
   "outputs": [],
   "source": [
    "import IPython.display as ipd\n",
    "while True:\n",
    "    c = input()\n",
    "    if c in ['q', 'Q', 'ㅂ', 'ㅃ']:\n",
    "        break\n",
    "ipd.clear_output()"
   ]
  },
  {
   "cell_type": "code",
   "execution_count": 15,
   "id": "5bb0fb9a-bf67-4353-b8b8-df00448f89f6",
   "metadata": {},
   "outputs": [],
   "source": [
    "from ipywidgets import HTML, Text, Button"
   ]
  },
  {
   "cell_type": "code",
   "execution_count": 16,
   "id": "c3e0c467-8119-422e-9613-278238b5acef",
   "metadata": {},
   "outputs": [
    {
     "data": {
      "application/vnd.jupyter.widget-view+json": {
       "model_id": "cde14b2a27514f4ebb7d30be318f8996",
       "version_major": 2,
       "version_minor": 0
      },
      "text/plain": [
       "HTML(value='<hr>')"
      ]
     },
     "metadata": {},
     "output_type": "display_data"
    }
   ],
   "source": [
    "HTML('<hr>')"
   ]
  },
  {
   "cell_type": "code",
   "execution_count": 19,
   "id": "41e56e2f-0d19-44f3-9450-d04a41b67d62",
   "metadata": {},
   "outputs": [
    {
     "data": {
      "application/vnd.jupyter.widget-view+json": {
       "model_id": "2bacf3ed40fb43678537da297ae7db5e",
       "version_major": 2,
       "version_minor": 0
      },
      "text/plain": [
       "Button(description='눌러주세요', style=ButtonStyle())"
      ]
     },
     "metadata": {},
     "output_type": "display_data"
    }
   ],
   "source": [
    "Button(description='눌러주세요')"
   ]
  },
  {
   "cell_type": "code",
   "execution_count": 22,
   "id": "b17ef501-ab11-47d3-87b0-6fe1631ef188",
   "metadata": {},
   "outputs": [
    {
     "data": {
      "application/vnd.jupyter.widget-view+json": {
       "model_id": "1092b86832c04e10a8e125f8d7ed54db",
       "version_major": 2,
       "version_minor": 0
      },
      "text/plain": [
       "Text(value='')"
      ]
     },
     "metadata": {},
     "output_type": "display_data"
    }
   ],
   "source": [
    "Text()"
   ]
  }
 ],
 "metadata": {
  "kernelspec": {
   "display_name": "Python 3",
   "language": "python",
   "name": "python3"
  },
  "language_info": {
   "codemirror_mode": {
    "name": "ipython",
    "version": 3
   },
   "file_extension": ".py",
   "mimetype": "text/x-python",
   "name": "python",
   "nbconvert_exporter": "python",
   "pygments_lexer": "ipython3",
   "version": "3.7.10"
  }
 },
 "nbformat": 4,
 "nbformat_minor": 5
}
