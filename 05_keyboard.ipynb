{
 "cells": [
  {
   "cell_type": "code",
   "execution_count": 11,
   "id": "63cefbe0-b47f-49e2-99d9-ad72d0d915b5",
   "metadata": {},
   "outputs": [
    {
     "data": {
      "application/vnd.jupyter.widget-view+json": {
       "model_id": "2306b7b4118d497d893d18fe53d45584",
       "version_major": 2,
       "version_minor": 0
      },
      "text/plain": [
       "Text(value='')"
      ]
     },
     "metadata": {},
     "output_type": "display_data"
    },
    {
     "data": {
      "application/vnd.jupyter.widget-view+json": {
       "model_id": "4438e7085aa440d3b42326941843424f",
       "version_major": 2,
       "version_minor": 0
      },
      "text/plain": [
       "Text(value='')"
      ]
     },
     "metadata": {},
     "output_type": "display_data"
    }
   ],
   "source": [
    "import time\n",
    "import ipywidgets as widgets\n",
    "\n",
    "# 이벤트 처리 콜백 함수\n",
    "def on_char_(value):\n",
    "    \n",
    "    # 추가 입력이 없으면 그냥 리턴\n",
    "    if len(value['new']) == 0:\n",
    "        return\n",
    "    \n",
    "    # 새로 입력된 키보드 입력값 얻기\n",
    "    key = value['new'][-1]\n",
    "    \n",
    "    # 현재 시간과 함께 키값 저장\n",
    "    with open('key.txt', 'w') as f:\n",
    "        f.write(str(time.time()) + '\\n')\n",
    "        f.write(key)\n",
    "        \n",
    "    # 입력 위젯 초기화\n",
    "    key_input.value = ''\n",
    "    \n",
    "    # 디버깅을 위해 입력 값 화살표로 표시\n",
    "    key_show.value = {'a':'<==', 'd':'==>'}[key] if key in 'ad' else '' \n",
    "    \n",
    "# 입력 텍스트 위젯 생성\n",
    "key_input = widgets.Text()\n",
    "\n",
    "# 입력 위젯 화면에 그리기 \n",
    "display(key_input)\n",
    "\n",
    "# 입력 위젯에 이벤트 콜백 함수 등록 \n",
    "key_input.observe(on_char_, names='value')\n",
    "\n",
    "# 디버그 위젯 생성 및 화면에 그리기 \n",
    "key_show  = widgets.Text()\n",
    "display(key_show)"
   ]
  }
 ],
 "metadata": {
  "kernelspec": {
   "display_name": "Python [conda env:doil]",
   "language": "python",
   "name": "conda-env-doil-py"
  },
  "language_info": {
   "codemirror_mode": {
    "name": "ipython",
    "version": 3
   },
   "file_extension": ".py",
   "mimetype": "text/x-python",
   "name": "python",
   "nbconvert_exporter": "python",
   "pygments_lexer": "ipython3",
   "version": "3.8.12"
  }
 },
 "nbformat": 4,
 "nbformat_minor": 5
}
