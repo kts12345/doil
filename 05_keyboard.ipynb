{
 "cells": [
  {
   "cell_type": "code",
   "execution_count": 13,
   "id": "63cefbe0-b47f-49e2-99d9-ad72d0d915b5",
   "metadata": {
    "tags": []
   },
   "outputs": [],
   "source": [
    "import time\n",
    "import ipywidgets as widgets\n",
    "\n",
    "def on_char_(value):\n",
    "    \n",
    "    if len(value['new']) == 0:\n",
    "        return\n",
    "    \n",
    "    key = value['new'][-1]\n",
    "    \n",
    "    with open('key.txt', 'w') as f:\n",
    "        f.write(str(time.time()) + '\\n')\n",
    "        f.write(key)\n",
    "        \n",
    "    key_input.value = ''\n",
    "    key_show.value = {'a':'←', 'd':'→'}[key] if key in ['a', 'd'] else ''\n",
    "    \n",
    "key_input, key_show = widgets.Text(), widgets.Text()\n",
    "key_input.observe(on_char_, names='value')"
   ]
  },
  {
   "cell_type": "code",
   "execution_count": 14,
   "id": "bc6f9bbd-ca42-47bd-87e0-b336e4c958d7",
   "metadata": {
    "tags": []
   },
   "outputs": [
    {
     "data": {
      "application/vnd.jupyter.widget-view+json": {
       "model_id": "2dea017bc2a74fe8bea3d458d6a5900d",
       "version_major": 2,
       "version_minor": 0
      },
      "text/plain": [
       "Text(value='')"
      ]
     },
     "metadata": {},
     "output_type": "display_data"
    }
   ],
   "source": [
    "key_input"
   ]
  },
  {
   "cell_type": "code",
   "execution_count": 15,
   "id": "3a4d8a76-d5e0-439f-9b91-41f9ba9d90ee",
   "metadata": {},
   "outputs": [
    {
     "data": {
      "application/vnd.jupyter.widget-view+json": {
       "model_id": "631e886345874fbd89db0ef7bdd8bad9",
       "version_major": 2,
       "version_minor": 0
      },
      "text/plain": [
       "Text(value='')"
      ]
     },
     "metadata": {},
     "output_type": "display_data"
    }
   ],
   "source": [
    "key_show"
   ]
  }
 ],
 "metadata": {
  "kernelspec": {
   "display_name": "Python 3",
   "language": "python",
   "name": "python3"
  },
  "language_info": {
   "codemirror_mode": {
    "name": "ipython",
    "version": 3
   },
   "file_extension": ".py",
   "mimetype": "text/x-python",
   "name": "python",
   "nbconvert_exporter": "python",
   "pygments_lexer": "ipython3",
   "version": "3.7.10"
  }
 },
 "nbformat": 4,
 "nbformat_minor": 5
}
