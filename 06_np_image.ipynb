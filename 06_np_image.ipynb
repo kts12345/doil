{
 "cells": [
  {
   "cell_type": "code",
   "execution_count": null,
   "id": "95e1558e-bf44-4a64-bd2d-21e21b020bfb",
   "metadata": {},
   "outputs": [],
   "source": [
    "from PIL import Image"
   ]
  },
  {
   "cell_type": "code",
   "execution_count": null,
   "id": "753c6070-9005-45ca-93c3-2f18d844a8fc",
   "metadata": {},
   "outputs": [],
   "source": [
    "Image.open('images/slide.png')"
   ]
  },
  {
   "cell_type": "code",
   "execution_count": null,
   "id": "1617375e-dd13-4050-a722-98001b6e16b7",
   "metadata": {},
   "outputs": [],
   "source": [
    "load = lambda e: Image.open(f'images/{e}.jpg')\n",
    "imgs = [load(e) for e in ['my_fighter', 'enemy_level_01', 'crash']]"
   ]
  },
  {
   "cell_type": "code",
   "execution_count": null,
   "id": "7f41e75e-bb5e-4176-ab10-6be07b841317",
   "metadata": {},
   "outputs": [],
   "source": [
    "for e in imgs:\n",
    "    display(e)"
   ]
  },
  {
   "cell_type": "code",
   "execution_count": null,
   "id": "e49cf13a-be4b-4626-9565-5c9de567acb6",
   "metadata": {},
   "outputs": [],
   "source": [
    "import numpy as np\n",
    "ims = [np.array(e) for e in imgs]"
   ]
  },
  {
   "cell_type": "code",
   "execution_count": null,
   "id": "ed37e590-ec16-4de8-aaa6-b3ca52f3bb27",
   "metadata": {},
   "outputs": [],
   "source": [
    "for e in ims:\n",
    "    print(e.shape)"
   ]
  },
  {
   "cell_type": "code",
   "execution_count": null,
   "id": "3076b20a-eaf9-4a72-8470-8ef557692d15",
   "metadata": {},
   "outputs": [],
   "source": [
    "show = lambda e: display(Image.fromarray(e))\n",
    "for e in ims:\n",
    "    show(e[:150,:150,:])"
   ]
  },
  {
   "cell_type": "code",
   "execution_count": null,
   "id": "dd0842ed-dd9b-468d-9f3a-a5420c44df1a",
   "metadata": {},
   "outputs": [],
   "source": [
    "for e in ims:\n",
    "    show(e[150:, 150:, :])"
   ]
  }
 ],
 "metadata": {
  "kernelspec": {
   "display_name": "Python 3",
   "language": "python",
   "name": "python3"
  },
  "language_info": {
   "codemirror_mode": {
    "name": "ipython",
    "version": 3
   },
   "file_extension": ".py",
   "mimetype": "text/x-python",
   "name": "python",
   "nbconvert_exporter": "python",
   "pygments_lexer": "ipython3",
   "version": "3.7.10"
  }
 },
 "nbformat": 4,
 "nbformat_minor": 5
}
