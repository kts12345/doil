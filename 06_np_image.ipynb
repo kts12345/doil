{
 "cells": [
  {
   "cell_type": "markdown",
   "id": "august-rebel",
   "metadata": {},
   "source": [
    "---\n",
    "DEV PLUS 2021  \n",
    "\n",
    "---\n",
    "### 다룰 내용\n",
    "* PIL.image\n",
    "  * 이미지 파일 로드\n",
    "  * numpy 타입의 이미지를 변환\n",
    "  * IPython.display 를 통한 시각화\n",
    "* numpy \n",
    "  * PIL.Image 타입의 이미지를 변환\n",
    "  * 크기 정보. shape\n",
    "  * 위치 indexing\n",
    "#  \n",
    "#  "
   ]
  },
  {
   "cell_type": "code",
   "execution_count": null,
   "id": "structural-possession",
   "metadata": {},
   "outputs": [],
   "source": [
    "from PIL import Image"
   ]
  },
  {
   "cell_type": "code",
   "execution_count": null,
   "id": "outer-columbia",
   "metadata": {},
   "outputs": [],
   "source": [
    "Image.open('images/slide.png')"
   ]
  },
  {
   "cell_type": "code",
   "execution_count": null,
   "id": "brief-sitting",
   "metadata": {},
   "outputs": [],
   "source": [
    "load = lambda e: Image.open(f'images/{e}.jpg')\n",
    "imgs = [load(e) for e in ['my_fighter', 'enemy_level_01', 'crash']]"
   ]
  },
  {
   "cell_type": "code",
   "execution_count": null,
   "id": "pediatric-flush",
   "metadata": {},
   "outputs": [],
   "source": [
    "for e in imgs:\n",
    "    display(e)"
   ]
  },
  {
   "cell_type": "code",
   "execution_count": null,
   "id": "hollywood-method",
   "metadata": {},
   "outputs": [],
   "source": [
    "import numpy as np\n",
    "ims = [np.array(e) for e in imgs]"
   ]
  },
  {
   "cell_type": "code",
   "execution_count": null,
   "id": "through-custody",
   "metadata": {},
   "outputs": [],
   "source": [
    "for e in ims:\n",
    "    print(e.shape)"
   ]
  },
  {
   "cell_type": "code",
   "execution_count": null,
   "id": "hired-burner",
   "metadata": {},
   "outputs": [],
   "source": [
    "show = lambda e: display(Image.fromarray(e))\n",
    "for e in ims:\n",
    "    show(e[:150,:150,:])"
   ]
  },
  {
   "cell_type": "code",
   "execution_count": null,
   "id": "looking-palmer",
   "metadata": {},
   "outputs": [],
   "source": [
    "for e in ims:\n",
    "    show(e[150:, 150:, :])"
   ]
  }
 ],
 "metadata": {
  "kernelspec": {
   "display_name": "Python 3",
   "language": "python",
   "name": "python3"
  },
  "language_info": {
   "codemirror_mode": {
    "name": "ipython",
    "version": 3
   },
   "file_extension": ".py",
   "mimetype": "text/x-python",
   "name": "python",
   "nbconvert_exporter": "python",
   "pygments_lexer": "ipython3",
   "version": "3.7.9"
  }
 },
 "nbformat": 4,
 "nbformat_minor": 5
}
