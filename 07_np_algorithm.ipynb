{
 "cells": [
  {
   "cell_type": "code",
   "execution_count": null,
   "id": "8af5905c-d224-4169-8230-77d836d0140a",
   "metadata": {},
   "outputs": [],
   "source": [
    "import time\n",
    "from PIL import Image\n",
    "import IPython.display as ipd\n",
    "import numpy as np\n",
    "\n",
    "def show(e, r = 2):\n",
    "    im = Image.fromarray(e)\n",
    "    im = im.resize(r*np.array(im.size))\n",
    "    display(im)\n",
    "SX, SY = 300, 300"
   ]
  },
  {
   "cell_type": "code",
   "execution_count": null,
   "id": "003a138e-30ae-4972-ae6a-36693acf3281",
   "metadata": {},
   "outputs": [],
   "source": [
    "def make_bullet_e(x, y):\n",
    "    bullet = np.zeros((SY, SX, 3), np.uint8)\n",
    "    color = np.array([100, 0, 100])\n",
    "    bullet[y+45:y+50, x-1:x+1] = color*2\n",
    "    bullet[y+40:y+45, x-3:x+3] = color\n",
    "    bullet[y+35:y+40, x-4:x+4] = color/2\n",
    "    bullet[y+30:y+35, x-5:x+5] = color/4\n",
    "    return bullet\n",
    "\n",
    "b = make_bullet_e(150,100) \n",
    "show(b)"
   ]
  },
  {
   "cell_type": "code",
   "execution_count": null,
   "id": "3b93cb65-9335-4494-b74b-6ffa592b22e7",
   "metadata": {},
   "outputs": [],
   "source": [
    "def pad(a, p):\n",
    "    return np.pad(a, p + ((0,0),), mode='constant', constant_values=0)\n",
    "\n",
    "def bullet_step_e(bullet):\n",
    "    step = 2\n",
    "    nb =  pad(bullet, ((step,0), (0,0)))[:-step,:,:]\n",
    "    if nb.sum() == 0:\n",
    "        return None\n",
    "    return nb"
   ]
  },
  {
   "cell_type": "code",
   "execution_count": null,
   "id": "7fba7735-06f3-412d-886e-41fcd5f7227d",
   "metadata": {},
   "outputs": [],
   "source": [
    "b = make_bullet_e(150,50) \n",
    "while b is not None: \n",
    "    b = bullet_step_e(b)\n",
    "    if b is not None: \n",
    "        show(b)\n",
    "    time.sleep(0.05)\n",
    "    ipd.clear_output(wait=True)"
   ]
  },
  {
   "cell_type": "code",
   "execution_count": null,
   "id": "4a5341ab-a93f-4da2-a2c6-4cc060992470",
   "metadata": {},
   "outputs": [],
   "source": [
    "def make_fighter():\n",
    "    FS = 64 \n",
    "    obj = Image.open('images/my_fighter.jpg').resize((FS, FS))\n",
    "    obj = np.array(obj)\n",
    "    obj = pad(obj, ((SY-30-FS, 30), ((SX-FS)//2, (SX-FS)//2)))\n",
    "    return obj\n",
    "f = make_fighter()\n",
    "show(f)"
   ]
  },
  {
   "cell_type": "code",
   "execution_count": null,
   "id": "ff9db095-16a0-4ec1-8567-4251c93b4d3b",
   "metadata": {},
   "outputs": [],
   "source": [
    "def is_hit_v1(obj1, obj2):\n",
    "    nc = lambda e: np.count_nonzero(e)\n",
    "    return nc(obj1) + nc(obj2) != nc(obj1 + obj2)"
   ]
  },
  {
   "cell_type": "code",
   "execution_count": null,
   "id": "9b351f59-c5c5-40a7-b0bc-8715c5802485",
   "metadata": {},
   "outputs": [],
   "source": [
    "b = make_bullet_e(150,50) \n",
    "while b is not None: \n",
    "    b = bullet_step_e(b)\n",
    "    if b is not None: \n",
    "        show(b + f)\n",
    "    print('is_hit:', is_hit_v1(b, f))\n",
    "    if input() == 'q':\n",
    "        break\n",
    "    ipd.clear_output(wait=True)"
   ]
  }
 ],
 "metadata": {
  "kernelspec": {
   "display_name": "Python 3",
   "language": "python",
   "name": "python3"
  },
  "language_info": {
   "codemirror_mode": {
    "name": "ipython",
    "version": 3
   },
   "file_extension": ".py",
   "mimetype": "text/x-python",
   "name": "python",
   "nbconvert_exporter": "python",
   "pygments_lexer": "ipython3",
   "version": "3.7.10"
  }
 },
 "nbformat": 4,
 "nbformat_minor": 5
}
