{
 "cells": [
  {
   "cell_type": "markdown",
   "id": "authorized-aberdeen",
   "metadata": {},
   "source": [
    "---\n",
    "DEV PLUS 2021  \n",
    "\n",
    "---\n",
    "### 다룰 내용\n",
    "* numpy 고급 \n",
    "  * 특정 위치 값 바꾸기 (by 위치 indexing)\n",
    "  * 이미지 위치 위동\n",
    "    * pading 하기 (by API)\n",
    "    * 크롭하기 (by 위치 indexing)\n",
    "  * 두 이미지의 충돌 감지\n",
    "  * ※난이도:상, 세미나 내용 중 가장 어려움\n",
    "#  \n",
    "#  "
   ]
  },
  {
   "cell_type": "code",
   "execution_count": null,
   "id": "ordinary-internship",
   "metadata": {
    "tags": []
   },
   "outputs": [],
   "source": [
    "import time\n",
    "from PIL import Image\n",
    "import IPython.display as ipd\n",
    "import numpy as np\n",
    "\n",
    "# numpy 배열을 이미지로 변환해서 보여주기. r:확대비율\n",
    "def show(e, r = 2):\n",
    "    im = Image.fromarray(e)\n",
    "    im = im.resize(r*np.array(im.size), resample=Image.NEAREST)\n",
    "    display(im)\n",
    "    \n",
    "# 전체 화면 크기\n",
    "SX, SY = 200, 200"
   ]
  },
  {
   "cell_type": "code",
   "execution_count": null,
   "id": "stone-directive",
   "metadata": {
    "tags": []
   },
   "outputs": [],
   "source": [
    "# 적(enemy) 총알 만들기\n",
    "def make_bullet_e(x, y):\n",
    "    \n",
    "    # 전체 화면을 검은색으로 초기화\n",
    "    bullet = np.zeros((SY, SX, 3), np.uint8)\n",
    "    \n",
    "    # 컬러 선택\n",
    "    color = np.array([120, 0, 120])\n",
    "    \n",
    "    # 주어진 위치 (x,y)에 총알 그리기\n",
    "    bullet[y+45:y+50, x-1:x+1] = color*2\n",
    "    bullet[y+40:y+45, x-3:x+3] = color\n",
    "    bullet[y+35:y+40, x-4:x+4] = color/2\n",
    "    bullet[y+30:y+35, x-6:x+6] = color/3\n",
    "    \n",
    "    return bullet\n",
    "\n",
    "b = make_bullet_e(100,50) \n",
    "show(b)"
   ]
  },
  {
   "cell_type": "code",
   "execution_count": null,
   "id": "radical-pledge",
   "metadata": {
    "tags": []
   },
   "outputs": [],
   "source": [
    "def pad(img, yx):\n",
    "    ch = ((0,0),)\n",
    "    return np.pad(img, yx + ch, mode='constant', constant_values=0)\n",
    "\n",
    "def bullet_step_e(bullet, step = 2):\n",
    "    nb = pad(bullet, ((step,0), (0,0)))\n",
    "    nb = nb[:-step, :, :]\n",
    "    if nb.sum() == 0:\n",
    "        return None\n",
    "    return nb"
   ]
  },
  {
   "cell_type": "code",
   "execution_count": null,
   "id": "fantastic-rochester",
   "metadata": {
    "tags": []
   },
   "outputs": [],
   "source": [
    "b = make_bullet_e(100,10) \n",
    "while True: \n",
    "    b = bullet_step_e(b)\n",
    "    if b is None: \n",
    "        break\n",
    "    show(b)\n",
    "    time.sleep(0.1)\n",
    "    ipd.clear_output(wait=True)"
   ]
  },
  {
   "cell_type": "code",
   "execution_count": null,
   "id": "blocked-birth",
   "metadata": {
    "tags": []
   },
   "outputs": [],
   "source": [
    "def make_fighter():\n",
    "    FS = 64 \n",
    "    obj = Image.open('images/my_fighter.jpg').resize((FS, FS))\n",
    "    obj = np.array(obj)\n",
    "    obj = pad(obj, ((SY-30-FS, 30), ((SX-FS)//2, (SX-FS)//2)))\n",
    "    return obj\n",
    "f = make_fighter()\n",
    "show(f)"
   ]
  },
  {
   "cell_type": "code",
   "execution_count": null,
   "id": "confirmed-advertising",
   "metadata": {
    "tags": []
   },
   "outputs": [],
   "source": [
    "def is_hit_v1(obj1, obj2):\n",
    "    nc = lambda e: np.count_nonzero(e)\n",
    "    return nc(obj1) + nc(obj2) != nc(obj1 + obj2)"
   ]
  },
  {
   "cell_type": "code",
   "execution_count": null,
   "id": "surprising-myrtle",
   "metadata": {},
   "outputs": [],
   "source": [
    "b = make_bullet_e(100,10) \n",
    "while b is not None: \n",
    "    b = bullet_step_e(b, step=10)\n",
    "    if b is None:\n",
    "        break\n",
    "    show(b + f)\n",
    "    print('is_hit:', is_hit_v1(b, f))\n",
    "    if 'q' == input():\n",
    "        break\n",
    "    ipd.clear_output(wait=True)"
   ]
  }
 ],
 "metadata": {
  "kernelspec": {
   "display_name": "Python [conda env:doil]",
   "language": "python",
   "name": "conda-env-doil-py"
  },
  "language_info": {
   "codemirror_mode": {
    "name": "ipython",
    "version": 3
   },
   "file_extension": ".py",
   "mimetype": "text/x-python",
   "name": "python",
   "nbconvert_exporter": "python",
   "pygments_lexer": "ipython3",
   "version": "3.8.12"
  }
 },
 "nbformat": 4,
 "nbformat_minor": 5
}
