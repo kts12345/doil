{
 "cells": [
  {
   "cell_type": "code",
   "execution_count": null,
   "id": "1ee20a08-f885-4a68-9690-d56197e2744f",
   "metadata": {},
   "outputs": [],
   "source": [
    "from src_shooting.game_loop import game_loop\n",
    "game_loop()"
   ]
  }
 ],
 "metadata": {
  "kernelspec": {
   "display_name": "Python 3",
   "language": "python",
   "name": "python3"
  },
  "language_info": {
   "codemirror_mode": {
    "name": "ipython",
    "version": 3
   },
   "file_extension": ".py",
   "mimetype": "text/x-python",
   "name": "python",
   "nbconvert_exporter": "python",
   "pygments_lexer": "ipython3",
   "version": "3.7.10"
  }
 },
 "nbformat": 4,
 "nbformat_minor": 5
}
