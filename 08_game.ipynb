{
 "cells": [
  {
   "cell_type": "markdown",
   "id": "defensive-playback",
   "metadata": {
    "tags": []
   },
   "source": [
    "---\n",
    "DEV PLUS 2021  \n",
    "\n",
    "---\n",
    "### 데모\n",
    "#\n",
    "#\n",
    "#"
   ]
  },
  {
   "cell_type": "code",
   "execution_count": null,
   "id": "czech-aquarium",
   "metadata": {
    "jupyter": {
     "source_hidden": true
    },
    "tags": []
   },
   "outputs": [],
   "source": [
    "from src_shooting.game_loop import start\n",
    "start()"
   ]
  }
 ],
 "metadata": {
  "kernelspec": {
   "display_name": "Python [conda env:doil]",
   "language": "python",
   "name": "conda-env-doil-py"
  },
  "language_info": {
   "codemirror_mode": {
    "name": "ipython",
    "version": 3
   },
   "file_extension": ".py",
   "mimetype": "text/x-python",
   "name": "python",
   "nbconvert_exporter": "python",
   "pygments_lexer": "ipython3",
   "version": "3.8.12"
  }
 },
 "nbformat": 4,
 "nbformat_minor": 5
}
